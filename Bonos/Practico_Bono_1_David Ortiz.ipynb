{
 "cells": [
  {
   "cell_type": "markdown",
   "metadata": {
    "application/vnd.databricks.v1+cell": {
     "cellMetadata": {},
     "inputWidgets": {},
     "nuid": "125222f6-ca15-4597-8a62-5d9819a24afe",
     "showTitle": false,
     "tableResultSettingsMap": {},
     "title": ""
    }
   },
   "source": [
    "%md  \n",
    "---  \n",
    "**Autor:** David Ortiz  \n",
    "**ID:** 000020468866   \n",
    "---  \n"
   ]
  },
  {
   "cell_type": "markdown",
   "metadata": {
    "application/vnd.databricks.v1+cell": {
     "cellMetadata": {},
     "inputWidgets": {},
     "nuid": "4efbfae3-19fd-4d54-8cdf-89107a7d2b04",
     "showTitle": false,
     "tableResultSettingsMap": {},
     "title": ""
    },
    "id": "dkfTfb7kKfO8"
   },
   "source": [
    "## CALENTAMIENTO:"
   ]
  },
  {
   "cell_type": "markdown",
   "metadata": {
    "application/vnd.databricks.v1+cell": {
     "cellMetadata": {},
     "inputWidgets": {},
     "nuid": "437e38ba-1097-403b-ac30-4e3f5a76b5bc",
     "showTitle": false,
     "tableResultSettingsMap": {},
     "title": ""
    },
    "id": "jKNiFouRKfO8"
   },
   "source": [
    "#### MENOR DE DOS PARES: Escriba una función que devuelva el menor de dos números dados *si* ambos números son pares, pero devuelva el mayor si uno o ambos números son impares\n",
    "    lesser_of_two_evens(2,4) --> 2\n",
    "    lesser_of_two_evens(2,5) --> 5"
   ]
  },
  {
   "cell_type": "code",
   "execution_count": 0,
   "metadata": {
    "application/vnd.databricks.v1+cell": {
     "cellMetadata": {
      "byteLimit": 2048000,
      "rowLimit": 10000
     },
     "inputWidgets": {},
     "nuid": "504f34bc-88e3-4fa3-a3d5-caf0b306f9e7",
     "showTitle": false,
     "tableResultSettingsMap": {},
     "title": ""
    },
    "id": "HF8_a_2IKfO8"
   },
   "outputs": [],
   "source": [
    "def lesser_of_two_evens(a,b):\n",
    "    if a % 2 == 0 and b % 2 == 0: \n",
    "        return min(a, b)\n",
    "    else:  \n",
    "        return max(a, b)\n",
    "        \n",
    "        "
   ]
  },
  {
   "cell_type": "code",
   "execution_count": 0,
   "metadata": {
    "application/vnd.databricks.v1+cell": {
     "cellMetadata": {
      "byteLimit": 2048000,
      "rowLimit": 10000
     },
     "inputWidgets": {},
     "nuid": "d2c7ce0f-1b5a-491c-974f-9d36b378c6bc",
     "showTitle": false,
     "tableResultSettingsMap": {},
     "title": ""
    },
    "id": "fOv0K9mXKfO9",
    "outputId": "b22f779c-6706-4ede-95cc-c140ad565be1"
   },
   "outputs": [
    {
     "output_type": "stream",
     "name": "stdout",
     "output_type": "stream",
     "text": [
      "Out[2]: 2"
     ]
    }
   ],
   "source": [
    "# Revisión\n",
    "lesser_of_two_evens(2,4)"
   ]
  },
  {
   "cell_type": "code",
   "execution_count": 0,
   "metadata": {
    "application/vnd.databricks.v1+cell": {
     "cellMetadata": {
      "byteLimit": 2048000,
      "rowLimit": 10000
     },
     "inputWidgets": {},
     "nuid": "e1a1a033-b46c-41a6-a3dd-236e0daf996d",
     "showTitle": false,
     "tableResultSettingsMap": {},
     "title": ""
    },
    "id": "UMKYl4NgKfO-",
    "outputId": "9c980845-33dc-4af5-e00f-941bc34c9158"
   },
   "outputs": [
    {
     "output_type": "stream",
     "name": "stdout",
     "output_type": "stream",
     "text": [
      "Out[3]: 5"
     ]
    }
   ],
   "source": [
    "# Revisión\n",
    "lesser_of_two_evens(2,5)"
   ]
  },
  {
   "cell_type": "markdown",
   "metadata": {
    "application/vnd.databricks.v1+cell": {
     "cellMetadata": {},
     "inputWidgets": {},
     "nuid": "a9d291a0-69e6-491b-ba2e-ec4a995ff89d",
     "showTitle": false,
     "tableResultSettingsMap": {},
     "title": ""
    }
   },
   "source": [
    "%md  \n",
    "### Cómo hice esta función  \n",
    "\n",
    "Para resolver este problema, pensé en dos escenarios:  \n",
    "1. **Si ambos números son pares** → Devolver el menor.  \n",
    "2. **Si al menos uno es impar** → Devolver el mayor.  \n",
    "\n",
    "Usé el operador `%` para comprobar si los números son pares (`num % 2 == 0`).  \n",
    "- Si **ambos** cumplen esa condición, utilizo `min(a, b)`, porque queremos el menor.  \n",
    "- Si **uno o ambos** son impares, usamos `max(a, b)`, ya que en ese caso buscamos el mayor.  \n",
    "\n",
    " \n"
   ]
  },
  {
   "cell_type": "markdown",
   "metadata": {
    "application/vnd.databricks.v1+cell": {
     "cellMetadata": {},
     "inputWidgets": {},
     "nuid": "fd8638e1-d57d-42ac-bafc-f10ee61d1910",
     "showTitle": false,
     "tableResultSettingsMap": {},
     "title": ""
    },
    "id": "ZdEE37WBKfO-"
   },
   "source": [
    "#### GALLETAS DE ANIMALES: Escribir una función que toma una cadena de dos palabras y devuelve True si ambas palabras comienzan con la misma letra\n",
    "    animal_crackers('Ciudad Calor') --> True\n",
    "    animal_crackers('Lugar Frio') --> False"
   ]
  },
  {
   "cell_type": "code",
   "execution_count": 0,
   "metadata": {
    "application/vnd.databricks.v1+cell": {
     "cellMetadata": {
      "byteLimit": 2048000,
      "rowLimit": 10000
     },
     "inputWidgets": {},
     "nuid": "af4974bb-db6f-449c-b63e-951e9dd0bb34",
     "showTitle": false,
     "tableResultSettingsMap": {},
     "title": ""
    },
    "id": "6JEJK4lcKfO_"
   },
   "outputs": [],
   "source": [
    "def animal_crackers(text):\n",
    "  words = text.split() \n",
    "  return words[0][0].lower() == words[1][0].lower()"
   ]
  },
  {
   "cell_type": "code",
   "execution_count": 0,
   "metadata": {
    "application/vnd.databricks.v1+cell": {
     "cellMetadata": {
      "byteLimit": 2048000,
      "rowLimit": 10000
     },
     "inputWidgets": {},
     "nuid": "484ae56d-01b1-4d9f-981f-a6b551dd068f",
     "showTitle": false,
     "tableResultSettingsMap": {},
     "title": ""
    },
    "id": "RZp5N4-6KfO_",
    "outputId": "6d328ca9-266d-48c7-f676-b754ef7ed006"
   },
   "outputs": [
    {
     "output_type": "stream",
     "name": "stdout",
     "output_type": "stream",
     "text": [
      "Out[6]: True"
     ]
    }
   ],
   "source": [
    "# Revisión\n",
    "animal_crackers('Ciudad Calor')"
   ]
  },
  {
   "cell_type": "code",
   "execution_count": 0,
   "metadata": {
    "application/vnd.databricks.v1+cell": {
     "cellMetadata": {
      "byteLimit": 2048000,
      "rowLimit": 10000
     },
     "inputWidgets": {},
     "nuid": "353ed5b0-bbec-4d73-b88f-c8e80c4e965e",
     "showTitle": false,
     "tableResultSettingsMap": {},
     "title": ""
    },
    "id": "zaGYt5L8KfO_",
    "outputId": "4b223142-b306-4b30-ac82-0231c9bba8ae"
   },
   "outputs": [
    {
     "output_type": "stream",
     "name": "stdout",
     "output_type": "stream",
     "text": [
      "Out[7]: False"
     ]
    }
   ],
   "source": [
    "# Revisión\n",
    "animal_crackers('Lugar Frio')"
   ]
  },
  {
   "cell_type": "markdown",
   "metadata": {
    "application/vnd.databricks.v1+cell": {
     "cellMetadata": {},
     "inputWidgets": {},
     "nuid": "be55feb6-9a10-4e51-a39b-3db058d25545",
     "showTitle": false,
     "tableResultSettingsMap": {},
     "title": ""
    }
   },
   "source": [
    "%md  \n",
    "### Cómo hice esta función  \n",
    "\n",
    "Primero, me aseguré de entender bien el problema: tengo una cadena con dos palabras y necesito verificar si ambas empiezan con la misma letra.  \n",
    "\n",
    "1. **Separé las palabras** usando `.split()`, lo que me da una lista con dos elementos.  \n",
    "2. **Comparé las primeras letras** de cada palabra, accediendo a ellas con `[0]`.  \n",
    "3. **Para evitar problemas con mayúsculas/minúsculas**, convertí ambas letras a minúsculas con `.lower()`.   \n"
   ]
  },
  {
   "cell_type": "markdown",
   "metadata": {
    "application/vnd.databricks.v1+cell": {
     "cellMetadata": {},
     "inputWidgets": {},
     "nuid": "1422ace5-a25a-46fd-9d2a-d702f2bd9811",
     "showTitle": false,
     "tableResultSettingsMap": {},
     "title": ""
    },
    "id": "Xln0rzZ3KfPA"
   },
   "source": [
    "#### HACE VEINTE: dados dos enteros, devuelve True si la suma de los enteros es 20 o si uno de los enteros es 20. De lo contrario, devuelve False\n",
    "\n",
    "    makes_twenty(20,10) --> True\n",
    "    makes_twenty(12,8) --> True\n",
    "    makes_twenty(2,3) --> False"
   ]
  },
  {
   "cell_type": "code",
   "execution_count": 0,
   "metadata": {
    "application/vnd.databricks.v1+cell": {
     "cellMetadata": {
      "byteLimit": 2048000,
      "rowLimit": 10000
     },
     "inputWidgets": {},
     "nuid": "a3cde709-ce3b-431e-975a-c3e1dce1dcfe",
     "showTitle": false,
     "tableResultSettingsMap": {},
     "title": ""
    },
    "id": "wBbR7Xx_KfPA"
   },
   "outputs": [],
   "source": [
    "def makes_twenty(n1,n2):\n",
    "  return n1 == 20 or n2 == 20 or (n1 + n2) == 20"
   ]
  },
  {
   "cell_type": "code",
   "execution_count": 0,
   "metadata": {
    "application/vnd.databricks.v1+cell": {
     "cellMetadata": {
      "byteLimit": 2048000,
      "rowLimit": 10000
     },
     "inputWidgets": {},
     "nuid": "ae5f220f-05f0-45b2-8902-cd986b24d984",
     "showTitle": false,
     "tableResultSettingsMap": {},
     "title": ""
    },
    "id": "6jHiJxnwKfPA",
    "outputId": "9a14cffb-0f72-48c1-8619-7cfe26264915"
   },
   "outputs": [
    {
     "output_type": "stream",
     "name": "stdout",
     "output_type": "stream",
     "text": [
      "Out[9]: True"
     ]
    }
   ],
   "source": [
    "# Revisión\n",
    "makes_twenty(20,10)"
   ]
  },
  {
   "cell_type": "code",
   "execution_count": 0,
   "metadata": {
    "application/vnd.databricks.v1+cell": {
     "cellMetadata": {
      "byteLimit": 2048000,
      "rowLimit": 10000
     },
     "inputWidgets": {},
     "nuid": "9f20535b-09ce-4c1a-b5f3-26c9b1bda376",
     "showTitle": false,
     "tableResultSettingsMap": {},
     "title": ""
    },
    "id": "zZIdlGLeKfPA",
    "outputId": "9272422f-c012-4f4e-d8e6-a64deeaafffe"
   },
   "outputs": [
    {
     "output_type": "stream",
     "name": "stdout",
     "output_type": "stream",
     "text": [
      "Out[10]: False"
     ]
    }
   ],
   "source": [
    "# Revisión\n",
    "makes_twenty(2,3)"
   ]
  },
  {
   "cell_type": "code",
   "execution_count": 0,
   "metadata": {
    "application/vnd.databricks.v1+cell": {
     "cellMetadata": {
      "byteLimit": 2048000,
      "rowLimit": 10000
     },
     "inputWidgets": {},
     "nuid": "4726627f-826f-4541-94ba-14d8848dd73f",
     "showTitle": false,
     "tableResultSettingsMap": {},
     "title": ""
    },
    "id": "BlJKTZX9KfPA",
    "outputId": "b973ebc9-e1c8-4a27-be98-968b062356c8"
   },
   "outputs": [
    {
     "output_type": "stream",
     "name": "stdout",
     "output_type": "stream",
     "text": [
      "Out[11]: True"
     ]
    }
   ],
   "source": [
    "makes_twenty(12,8)"
   ]
  },
  {
   "cell_type": "markdown",
   "metadata": {
    "application/vnd.databricks.v1+cell": {
     "cellMetadata": {},
     "inputWidgets": {},
     "nuid": "7049ca7f-f8ba-4be0-816a-68e750954f3e",
     "showTitle": false,
     "tableResultSettingsMap": {},
     "title": ""
    }
   },
   "source": [
    "%md  \n",
    "### Cómo hice esta función  \n",
    "\n",
    "El problema es bastante directo: tengo que devolver `True` si al menos uno de los números es 20 o si su suma es 20.  \n",
    "\n",
    "1. **Uso de operadores lógicos:**  \n",
    "   - Verifico si `n1` o `n2` son 20 con `n1 == 20 or n2 == 20`.  \n",
    "   - Luego, verifico si la suma de ambos es 20 con `(n1 + n2) == 20`.  \n",
    "\n",
    "2. **Uso del operador `or`:**  \n",
    "   - Si alguna de las condiciones es `True`, la función devuelve `True`.  \n",
    "   - Si ninguna se cumple, devuelve `False`.  \n",
    "\n"
   ]
  },
  {
   "cell_type": "markdown",
   "metadata": {
    "application/vnd.databricks.v1+cell": {
     "cellMetadata": {},
     "inputWidgets": {},
     "nuid": "56260c21-7c71-4fce-b55e-138479ffedbd",
     "showTitle": false,
     "tableResultSettingsMap": {},
     "title": ""
    },
    "id": "d3Fka2vRKfPB"
   },
   "source": [
    "# Nivel 1"
   ]
  },
  {
   "cell_type": "markdown",
   "metadata": {
    "application/vnd.databricks.v1+cell": {
     "cellMetadata": {},
     "inputWidgets": {},
     "nuid": "cb59f283-ae3d-4769-9eb4-291054323ce5",
     "showTitle": false,
     "tableResultSettingsMap": {},
     "title": ""
    },
    "id": "H_e_DMbnKfPB"
   },
   "source": [
    "#### MAYÚSCULAS: Escribir una función que haga mayúscula la primera y cuarta letra de una cadena de texto\n",
    "     \n",
    "    old_macdonald('macdonald') --> MacDonald\n",
    "    \n",
    "Note: `'macdonald'.capitalize()` returns `'Macdonald'`"
   ]
  },
  {
   "cell_type": "code",
   "execution_count": 0,
   "metadata": {
    "application/vnd.databricks.v1+cell": {
     "cellMetadata": {
      "byteLimit": 2048000,
      "rowLimit": 10000
     },
     "inputWidgets": {},
     "nuid": "f08bca2c-2d45-4bda-adb4-4a8ced7a244f",
     "showTitle": false,
     "tableResultSettingsMap": {},
     "title": ""
    },
    "id": "ZiXJrY8uKfPB"
   },
   "outputs": [],
   "source": [
    "def old_macdonald(name):\n",
    "    if len(name) < 4: \n",
    "        return name.capitalize()\n",
    "    \n",
    "    return name[:3].capitalize() + name[3:].capitalize() "
   ]
  },
  {
   "cell_type": "code",
   "execution_count": 0,
   "metadata": {
    "application/vnd.databricks.v1+cell": {
     "cellMetadata": {
      "byteLimit": 2048000,
      "rowLimit": 10000
     },
     "inputWidgets": {},
     "nuid": "d26786db-ab13-4c9c-97f0-107d2f5d91b6",
     "showTitle": false,
     "tableResultSettingsMap": {},
     "title": ""
    },
    "id": "wtu_baYIKfPB",
    "outputId": "4e8b6e19-7e9e-4c6d-99df-63ec5d984748"
   },
   "outputs": [
    {
     "output_type": "stream",
     "name": "stdout",
     "output_type": "stream",
     "text": [
      "Out[13]: 'MacDonald'"
     ]
    }
   ],
   "source": [
    "# Check\n",
    "old_macdonald('macdonald')"
   ]
  },
  {
   "cell_type": "markdown",
   "metadata": {
    "application/vnd.databricks.v1+cell": {
     "cellMetadata": {},
     "inputWidgets": {},
     "nuid": "8687aaac-61cd-4abe-a590-b913d3da688e",
     "showTitle": false,
     "tableResultSettingsMap": {},
     "title": ""
    }
   },
   "source": [
    "%md  \n",
    "### Cómo hice esta función  \n",
    "\n",
    "El problema requiere convertir en mayúscula la primera y cuarta letra de una cadena.  \n",
    "\n",
    "1. **Primero, manejo el caso especial:**  \n",
    "   - Si la cadena tiene menos de 4 caracteres, solo capitalizo la primera letra con `capitalize()`.  \n",
    "\n",
    "2. **Luego, aplico la transformación general:**  \n",
    "   - Divido la palabra en dos partes:\n",
    "     - `name[:3].capitalize()`: toma los primeros tres caracteres y capitaliza la primera letra.  \n",
    "     - `name[3:].capitalize()`: toma el resto de la palabra y capitaliza la primera letra de la segunda parte.  \n",
    "   - Finalmente, concateno ambas partes.  \n",
    "\n",
    "\n"
   ]
  },
  {
   "cell_type": "markdown",
   "metadata": {
    "application/vnd.databricks.v1+cell": {
     "cellMetadata": {},
     "inputWidgets": {},
     "nuid": "47f9e5ad-e844-4fc2-a74e-fc76efb320b4",
     "showTitle": false,
     "tableResultSettingsMap": {},
     "title": ""
    },
    "id": "E24LlJo1KfPC"
   },
   "source": [
    "#### REVERSA: Dada una oración, retornar la misma oración pero en reversa\n",
    "\n",
    "    master_yoda('I am home') --> 'home am I'\n",
    "    master_yoda('We are ready') --> 'ready are We'\n",
    "    \n",
    "Note: Revisar método .join()\n",
    "\n",
    "    >>> \"--\".join(['a','b','c'])\n",
    "    >>> 'a--b--c'\n",
    "\n",
    "Resultado de .join():\n",
    "\n",
    "    >>> \" \".join(['Hello','world'])\n",
    "    >>> \"Hello world\""
   ]
  },
  {
   "cell_type": "code",
   "execution_count": 0,
   "metadata": {
    "application/vnd.databricks.v1+cell": {
     "cellMetadata": {
      "byteLimit": 2048000,
      "rowLimit": 10000
     },
     "inputWidgets": {},
     "nuid": "ea0bc8f9-2f13-4c4d-a4f2-f757107a3b6c",
     "showTitle": false,
     "tableResultSettingsMap": {},
     "title": ""
    },
    "id": "6K4nw15nKfPC"
   },
   "outputs": [],
   "source": [
    "def master_yoda(text):\n",
    "    return \" \".join(text.split()[::-1])  "
   ]
  },
  {
   "cell_type": "code",
   "execution_count": 0,
   "metadata": {
    "application/vnd.databricks.v1+cell": {
     "cellMetadata": {
      "byteLimit": 2048000,
      "rowLimit": 10000
     },
     "inputWidgets": {},
     "nuid": "d7dff984-17b6-425f-8ccf-e783db04273b",
     "showTitle": false,
     "tableResultSettingsMap": {},
     "title": ""
    },
    "id": "2DqSErszKfPD",
    "outputId": "d49d92dd-11d7-4b81-c69d-c8695193eb19"
   },
   "outputs": [
    {
     "output_type": "stream",
     "name": "stdout",
     "output_type": "stream",
     "text": [
      "Out[19]: 'home am I'"
     ]
    }
   ],
   "source": [
    "# Revisión\n",
    "master_yoda('I am home')"
   ]
  },
  {
   "cell_type": "code",
   "execution_count": 0,
   "metadata": {
    "application/vnd.databricks.v1+cell": {
     "cellMetadata": {
      "byteLimit": 2048000,
      "rowLimit": 10000
     },
     "inputWidgets": {},
     "nuid": "66dfaea2-9cae-4f88-b2bb-534fa75656f2",
     "showTitle": false,
     "tableResultSettingsMap": {},
     "title": ""
    },
    "id": "efa9vdLSKfPD",
    "outputId": "4837b3d4-249c-4803-8b64-93b3ca51fc6d"
   },
   "outputs": [
    {
     "output_type": "stream",
     "name": "stdout",
     "output_type": "stream",
     "text": [
      "Out[20]: 'ready are We'"
     ]
    }
   ],
   "source": [
    "# Revisión\n",
    "master_yoda('We are ready')"
   ]
  },
  {
   "cell_type": "markdown",
   "metadata": {
    "application/vnd.databricks.v1+cell": {
     "cellMetadata": {},
     "inputWidgets": {},
     "nuid": "d50bc99e-5f80-41db-961d-617f9be68a15",
     "showTitle": false,
     "tableResultSettingsMap": {},
     "title": ""
    }
   },
   "source": [
    "%md  \n",
    "### Cómo hice esta función  \n",
    "\n",
    "El problema nos pide invertir el orden de las palabras en una oración. Para hacerlo:  \n",
    "\n",
    "1. **Primero, uso `split()`**  \n",
    "   - `sentence.split()` divide la cadena en una lista de palabras.  \n",
    "   - Por ejemplo, `'I am home'.split()` da `['I', 'am', 'home']`.  \n",
    "\n",
    "2. **Luego, invierto la lista**  \n",
    "   - `[::-1]` revierte el orden de los elementos en la lista.  \n",
    "   - `['I', 'am', 'home'][::-1]` da `['home', 'am', 'I']`.  \n",
    "\n",
    "3. **Finalmente, uso `join()`**  \n",
    "   - `\" \".join(lista)` convierte la lista de nuevo en una cadena con espacios entre las palabras.  \n",
    "\n"
   ]
  },
  {
   "cell_type": "markdown",
   "metadata": {
    "application/vnd.databricks.v1+cell": {
     "cellMetadata": {},
     "inputWidgets": {},
     "nuid": "3f8b2fcc-2fcf-4a3e-8801-2dc648495774",
     "showTitle": false,
     "tableResultSettingsMap": {},
     "title": ""
    },
    "id": "9jquqRm7KfPE"
   },
   "source": [
    "# Nivel 2"
   ]
  },
  {
   "cell_type": "markdown",
   "metadata": {
    "application/vnd.databricks.v1+cell": {
     "cellMetadata": {},
     "inputWidgets": {},
     "nuid": "16817679-fe5b-4239-8ccc-7fe48f025c0c",
     "showTitle": false,
     "tableResultSettingsMap": {},
     "title": ""
    },
    "id": "S5V3SVDGKfPE"
   },
   "source": [
    "#### PROBLEMA 33: \n",
    "\n",
    "Dada una lista de enteros, retornar True si el arreglo tinene un  3  seguido por un  3 .\n",
    "\n",
    "    has_33([1, 3, 3]) → True\n",
    "    has_33([1, 3, 1, 3]) → False\n",
    "    has_33([3, 1, 3]) → False"
   ]
  },
  {
   "cell_type": "code",
   "execution_count": 0,
   "metadata": {
    "application/vnd.databricks.v1+cell": {
     "cellMetadata": {
      "byteLimit": 2048000,
      "rowLimit": 10000
     },
     "inputWidgets": {},
     "nuid": "ed3deef1-d062-4240-8dec-0151813b409d",
     "showTitle": false,
     "tableResultSettingsMap": {},
     "title": ""
    },
    "id": "9eU2-UZvKfPE"
   },
   "outputs": [],
   "source": [
    "def has_33(nums):\n",
    "    for i in range(len(nums) - 1):  \n",
    "        if nums[i] == 3 and nums[i + 1] == 3:  \n",
    "            return True\n",
    "    return False  "
   ]
  },
  {
   "cell_type": "code",
   "execution_count": 0,
   "metadata": {
    "application/vnd.databricks.v1+cell": {
     "cellMetadata": {
      "byteLimit": 2048000,
      "rowLimit": 10000
     },
     "inputWidgets": {},
     "nuid": "56e4d6dc-096b-402e-868d-001294af1b71",
     "showTitle": false,
     "tableResultSettingsMap": {},
     "title": ""
    },
    "id": "Yca9X7MAKfPE",
    "outputId": "42c708a5-04ed-43e3-e8ec-295f48027f0c"
   },
   "outputs": [
    {
     "output_type": "stream",
     "name": "stdout",
     "output_type": "stream",
     "text": [
      "Out[22]: True"
     ]
    }
   ],
   "source": [
    "# Revisión\n",
    "has_33([1, 3, 3])"
   ]
  },
  {
   "cell_type": "code",
   "execution_count": 0,
   "metadata": {
    "application/vnd.databricks.v1+cell": {
     "cellMetadata": {
      "byteLimit": 2048000,
      "rowLimit": 10000
     },
     "inputWidgets": {},
     "nuid": "ef9d6df4-10bf-4cb9-a9d4-1f4759ed7638",
     "showTitle": false,
     "tableResultSettingsMap": {},
     "title": ""
    },
    "id": "XSw1ml9dKfPE",
    "outputId": "57e4fb93-4218-493c-992b-db6ebba0c5c1"
   },
   "outputs": [
    {
     "output_type": "stream",
     "name": "stdout",
     "output_type": "stream",
     "text": [
      "Out[23]: False"
     ]
    }
   ],
   "source": [
    "# Revisión\n",
    "has_33([1, 3, 1, 3])"
   ]
  },
  {
   "cell_type": "code",
   "execution_count": 0,
   "metadata": {
    "application/vnd.databricks.v1+cell": {
     "cellMetadata": {
      "byteLimit": 2048000,
      "rowLimit": 10000
     },
     "inputWidgets": {},
     "nuid": "17d5b8c8-e527-4d86-83a7-9ab83a3d195f",
     "showTitle": false,
     "tableResultSettingsMap": {},
     "title": ""
    },
    "id": "ZKcJgxc5KfPF",
    "outputId": "34957a99-b52c-44cd-bc7c-b0e5158ccf23"
   },
   "outputs": [
    {
     "output_type": "stream",
     "name": "stdout",
     "output_type": "stream",
     "text": [
      "Out[24]: False"
     ]
    }
   ],
   "source": [
    "# Revisión\n",
    "has_33([3, 1, 3])"
   ]
  },
  {
   "cell_type": "markdown",
   "metadata": {
    "application/vnd.databricks.v1+cell": {
     "cellMetadata": {},
     "inputWidgets": {},
     "nuid": "3ce6c524-daeb-4951-9096-bca3479b5358",
     "showTitle": false,
     "tableResultSettingsMap": {},
     "title": ""
    }
   },
   "source": [
    "%md  \n",
    "### Cómo hice esta función  \n",
    "\n",
    "El problema nos pide detectar si en una lista de números enteros aparece un **3 seguido de otro 3**.  \n",
    "\n",
    "1. **Recorremos la lista con un `for`**, pero **sin llegar al último índice**, porque siempre comparamos de dos en dos.  \n",
    "   - Si la lista tiene `n` elementos, el último índice válido es `n-1`, así que recorremos hasta `n-2`.  \n",
    "\n",
    "2. **Verificamos si hay dos 3 seguidos** usando `if nums[i] == 3 and nums[i+1] == 3`.  \n",
    "   - Si encontramos esta secuencia, retornamos `True` inmediatamente.  \n",
    "\n",
    "3. **Si terminamos de recorrer la lista y no encontramos `3,3`, retornamos `False`**.  \n",
    "\n"
   ]
  },
  {
   "cell_type": "markdown",
   "metadata": {
    "application/vnd.databricks.v1+cell": {
     "cellMetadata": {},
     "inputWidgets": {},
     "nuid": "c48ee93b-866f-40c3-ba9e-677d5f6bd08c",
     "showTitle": false,
     "tableResultSettingsMap": {},
     "title": ""
    },
    "id": "n-Vj63BpKfPF"
   },
   "source": [
    "#### REPLICADOR: Dada una cadena, devuelve una cadena donde por cada carácter en el original hay tres caracteres REPETIDOS\n",
    "    paper_doll('Hello') --> 'HHHeeellllllooo'\n",
    "    paper_doll('Mississippi') --> 'MMMiiissssssiiippppppiii'"
   ]
  },
  {
   "cell_type": "code",
   "execution_count": 0,
   "metadata": {
    "application/vnd.databricks.v1+cell": {
     "cellMetadata": {
      "byteLimit": 2048000,
      "rowLimit": 10000
     },
     "inputWidgets": {},
     "nuid": "bf8922d4-ec6f-4d3e-a4b9-1f08aa3677cb",
     "showTitle": false,
     "tableResultSettingsMap": {},
     "title": ""
    },
    "id": "F6ivbyiXKfPF"
   },
   "outputs": [],
   "source": [
    "def paper_doll(text):\n",
    "    return ''.join([char * 3 for char in text])"
   ]
  },
  {
   "cell_type": "code",
   "execution_count": 0,
   "metadata": {
    "application/vnd.databricks.v1+cell": {
     "cellMetadata": {
      "byteLimit": 2048000,
      "rowLimit": 10000
     },
     "inputWidgets": {},
     "nuid": "aa8600d4-26ac-4de6-b618-349ef2747055",
     "showTitle": false,
     "tableResultSettingsMap": {},
     "title": ""
    },
    "id": "h330yUbKKfPF",
    "outputId": "169efcdf-a2d5-4eaa-d0f4-295f84a4f5e9"
   },
   "outputs": [
    {
     "output_type": "stream",
     "name": "stdout",
     "output_type": "stream",
     "text": [
      "Out[26]: 'HHHeeellllllooo'"
     ]
    }
   ],
   "source": [
    "# Check\n",
    "paper_doll('Hello')"
   ]
  },
  {
   "cell_type": "code",
   "execution_count": 0,
   "metadata": {
    "application/vnd.databricks.v1+cell": {
     "cellMetadata": {
      "byteLimit": 2048000,
      "rowLimit": 10000
     },
     "inputWidgets": {},
     "nuid": "3dce9ba2-1750-4700-aa85-092015a16cec",
     "showTitle": false,
     "tableResultSettingsMap": {},
     "title": ""
    },
    "id": "sZTw8FlZKfPF",
    "outputId": "e7dc07c0-e048-4b25-ffcb-a5e4aeeebb42"
   },
   "outputs": [
    {
     "output_type": "stream",
     "name": "stdout",
     "output_type": "stream",
     "text": [
      "Out[27]: 'MMMiiissssssiiissssssiiippppppiii'"
     ]
    }
   ],
   "source": [
    "# Check\n",
    "paper_doll('Mississippi')"
   ]
  },
  {
   "cell_type": "markdown",
   "metadata": {
    "application/vnd.databricks.v1+cell": {
     "cellMetadata": {},
     "inputWidgets": {},
     "nuid": "da3ec651-c77e-4b38-8aa0-e563a139a368",
     "showTitle": false,
     "tableResultSettingsMap": {},
     "title": ""
    }
   },
   "source": [
    "### Cómo hice esta función  \n",
    "\n",
    "El problema nos pide que, dado un texto, **cada letra se repita tres veces** en la nueva cadena.\n",
    "\n",
    "1. **Recorremos la cadena original carácter por carácter**  \n",
    "   - Usamos una **comprensión de listas** para iterar sobre cada carácter en `text`.  \n",
    "\n",
    "2. **Multiplicamos cada carácter por 3**  \n",
    "   - Si encontramos la letra `'a'`, la convertimos en `'aaa'`.  \n",
    "   - Lo mismo ocurre con todas las letras de la cadena.  \n",
    "\n",
    "3. **Unimos los caracteres repetidos en una nueva cadena**  \n",
    "   - Usamos `''.join(...)` para unir la lista de caracteres repetidos en una sola cadena de texto.  "
   ]
  },
  {
   "cell_type": "markdown",
   "metadata": {
    "application/vnd.databricks.v1+cell": {
     "cellMetadata": {},
     "inputWidgets": {},
     "nuid": "48497ccf-1c33-4402-979c-4a18b7b186f1",
     "showTitle": false,
     "tableResultSettingsMap": {},
     "title": ""
    },
    "id": "OJfMlQRcKfPF"
   },
   "source": [
    "#### BLACKJACK: Dados tres enteros entre 1 y 11, si su suma es menor o igual a 21, devuelve su suma. Si su suma excede 21 *y* hay un once, reduce la suma total en 10. Finalmente, si la suma (incluso después del ajuste) excede 21, devuelve 'BUST'\n",
    "    blackjack(5,6,7) --> 18\n",
    "    blackjack(9,9,9) --> 'BUST'\n",
    "    blackjack(9,9,11) --> 19"
   ]
  },
  {
   "cell_type": "code",
   "execution_count": 0,
   "metadata": {
    "application/vnd.databricks.v1+cell": {
     "cellMetadata": {
      "byteLimit": 2048000,
      "rowLimit": 10000
     },
     "inputWidgets": {},
     "nuid": "dce5de5f-f295-4109-bf03-f833a0a5d4c6",
     "showTitle": false,
     "tableResultSettingsMap": {},
     "title": ""
    },
    "id": "REJRcYJmKfPF"
   },
   "outputs": [],
   "source": [
    "def blackjack(a,b,c):\n",
    "    total = a + b + c \n",
    "    \n",
    "    if total <= 21:\n",
    "        return total  \n",
    "    \n",
    "    if 11 in (a, b, c):  \n",
    "        total -= 10  \n",
    "    \n",
    "    return total if total <= 21 else \"BUST\""
   ]
  },
  {
   "cell_type": "code",
   "execution_count": 0,
   "metadata": {
    "application/vnd.databricks.v1+cell": {
     "cellMetadata": {
      "byteLimit": 2048000,
      "rowLimit": 10000
     },
     "inputWidgets": {},
     "nuid": "a4b6b896-bf45-4446-878b-2bacfd9758d5",
     "showTitle": false,
     "tableResultSettingsMap": {},
     "title": ""
    },
    "id": "D_sHnddYKfPF",
    "outputId": "fc7e06b6-dedc-44db-967b-d2bcae8566da"
   },
   "outputs": [
    {
     "output_type": "stream",
     "name": "stdout",
     "output_type": "stream",
     "text": [
      "Out[29]: 18"
     ]
    }
   ],
   "source": [
    "# Revisión\n",
    "blackjack(5,6,7)"
   ]
  },
  {
   "cell_type": "code",
   "execution_count": 0,
   "metadata": {
    "application/vnd.databricks.v1+cell": {
     "cellMetadata": {
      "byteLimit": 2048000,
      "rowLimit": 10000
     },
     "inputWidgets": {},
     "nuid": "81c83414-305f-489a-a747-67c57e9e3750",
     "showTitle": false,
     "tableResultSettingsMap": {},
     "title": ""
    },
    "id": "y0713b36KfPF",
    "outputId": "278287b5-0843-4056-da0b-ed5d8b382b7d"
   },
   "outputs": [
    {
     "output_type": "stream",
     "name": "stdout",
     "output_type": "stream",
     "text": [
      "Out[30]: 'BUST'"
     ]
    }
   ],
   "source": [
    "# Revisión\n",
    "blackjack(9,9,9)"
   ]
  },
  {
   "cell_type": "code",
   "execution_count": 0,
   "metadata": {
    "application/vnd.databricks.v1+cell": {
     "cellMetadata": {
      "byteLimit": 2048000,
      "rowLimit": 10000
     },
     "inputWidgets": {},
     "nuid": "526861c6-683b-4aa1-8f3d-d67465e1e05e",
     "showTitle": false,
     "tableResultSettingsMap": {},
     "title": ""
    },
    "id": "6eijyrH-KfPG",
    "outputId": "68421178-7dc7-439f-e433-ce567b999dd6"
   },
   "outputs": [
    {
     "output_type": "stream",
     "name": "stdout",
     "output_type": "stream",
     "text": [
      "Out[31]: 19"
     ]
    }
   ],
   "source": [
    "# Revisión\n",
    "blackjack(9,9,11)"
   ]
  },
  {
   "cell_type": "markdown",
   "metadata": {
    "application/vnd.databricks.v1+cell": {
     "cellMetadata": {},
     "inputWidgets": {},
     "nuid": "eacebe69-58b3-4b3b-9d17-fc8dca261a2a",
     "showTitle": false,
     "tableResultSettingsMap": {},
     "title": ""
    }
   },
   "source": [
    "### Cómo hice esta función  \n",
    "\n",
    "El problema nos pide sumar tres números enteros entre **1 y 11** y aplicar las reglas del Blackjack:\n",
    "\n",
    "1. **Sumar los tres números:**  \n",
    "   - Calculamos el total sumando `a + b + c`.  \n",
    "\n",
    "2. **Verificar si la suma es menor o igual a 21:**  \n",
    "   - Si la suma es **21 o menos**, la devolvemos directamente.  \n",
    "\n",
    "3. **Ajustar si la suma supera 21 y hay un 11:**  \n",
    "   - En Blackjack, un **11 puede valer 1**, por lo que si uno de los números es `11`, restamos `10` al total.  \n",
    "\n",
    "4. **Comprobar si la suma sigue siendo mayor que 21:**  \n",
    "   - Si, **incluso después del ajuste**, la suma aún supera 21, devolvemos `\"BUST\"`, indicando que se ha perdido la mano.  "
   ]
  },
  {
   "cell_type": "markdown",
   "metadata": {
    "application/vnd.databricks.v1+cell": {
     "cellMetadata": {},
     "inputWidgets": {},
     "nuid": "b9c54152-f6de-4444-aa9c-64dfdfcd5087",
     "showTitle": false,
     "tableResultSettingsMap": {},
     "title": ""
    },
    "id": "6S22_l6xKfPI"
   },
   "source": [
    "## Suerte!"
   ]
  },
  {
   "cell_type": "markdown",
   "metadata": {
    "application/vnd.databricks.v1+cell": {
     "cellMetadata": {},
     "inputWidgets": {},
     "nuid": "0f215947-9156-44c4-a368-e0633b967f90",
     "showTitle": false,
     "tableResultSettingsMap": {},
     "title": ""
    }
   },
   "source": [
    "#GRACIAS!!"
   ]
  }
 ],
 "metadata": {
  "application/vnd.databricks.v1+notebook": {
   "computePreferences": null,
   "dashboards": [],
   "environmentMetadata": null,
   "language": "python",
   "notebookMetadata": {
    "pythonIndentUnit": 4
   },
   "notebookName": "Practico_Bono_1_David Ortiz",
   "widgets": {}
  },
  "colab": {
   "name": "Practico_Bono_1(E).ipynb",
   "provenance": []
  },
  "kernelspec": {
   "display_name": "Python 3 (ipykernel)",
   "language": "python",
   "name": "python3"
  },
  "language_info": {
   "codemirror_mode": {
    "name": "ipython",
    "version": 3
   },
   "file_extension": ".py",
   "mimetype": "text/x-python",
   "name": "python",
   "nbconvert_exporter": "python",
   "pygments_lexer": "ipython3",
   "version": "3.10.4"
  }
 },
 "nbformat": 4,
 "nbformat_minor": 0
}
