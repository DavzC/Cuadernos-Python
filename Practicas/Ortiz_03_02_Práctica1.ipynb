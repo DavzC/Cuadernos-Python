{
 "cells": [
  {
   "cell_type": "markdown",
   "metadata": {
    "application/vnd.databricks.v1+cell": {
     "cellMetadata": {},
     "inputWidgets": {},
     "nuid": "41668673-ff49-4540-abda-8300043ac658",
     "showTitle": false,
     "tableResultSettingsMap": {},
     "title": ""
    }
   },
   "source": [
    "**Fecha:** _03-02-2025_\n",
    "\n",
    "**Autor:** _D. Ortiz_\n",
    "\n",
    "**Materia:** _Procesamiento de Alto Volúmen de Datos_\n",
    "\n",
    "**Tópico:** _Introducción a PySapark en el Ambiente Databricks_"
   ]
  },
  {
   "cell_type": "code",
   "execution_count": 0,
   "metadata": {
    "application/vnd.databricks.v1+cell": {
     "cellMetadata": {
      "byteLimit": 2048000,
      "rowLimit": 10000
     },
     "inputWidgets": {},
     "nuid": "fffbc1d7-8bda-4750-8e0c-92daa199b2b2",
     "showTitle": false,
     "tableResultSettingsMap": {},
     "title": ""
    }
   },
   "outputs": [],
   "source": [
    "import numpy as np\n",
    "import matplotlib.pyplot as plt\n",
    "import seaborn as sns\n",
    "from pyspark.sql import SQLContext\n",
    "from pyspark.sql.types import *\n",
    "from pyspark.sql.functions import *\n"
   ]
  },
  {
   "cell_type": "code",
   "execution_count": 0,
   "metadata": {
    "application/vnd.databricks.v1+cell": {
     "cellMetadata": {
      "byteLimit": 2048000,
      "rowLimit": 10000
     },
     "inputWidgets": {},
     "nuid": "578701ae-fbf8-4cf7-83c5-86447c57ac7c",
     "showTitle": false,
     "tableResultSettingsMap": {},
     "title": ""
    }
   },
   "outputs": [
    {
     "output_type": "execute_result",
     "data": {
      "text/plain": [
       "['id',\n",
       " 'gender',\n",
       " 'age',\n",
       " 'hypertension',\n",
       " 'heart_disease',\n",
       " 'ever_married',\n",
       " 'work_type',\n",
       " 'Residence_type',\n",
       " 'avg_glucose_level',\n",
       " 'bmi',\n",
       " 'smoking_status',\n",
       " 'stroke']"
      ]
     },
     "execution_count": 31,
     "metadata": {},
     "output_type": "execute_result"
    }
   ],
   "source": [
    "df00= spark.read.table(\"default.stroke_pyspark_1_csv\")\n",
    "\n",
    "df00.columns"
   ]
  },
  {
   "cell_type": "markdown",
   "metadata": {
    "application/vnd.databricks.v1+cell": {
     "cellMetadata": {},
     "inputWidgets": {},
     "nuid": "806ef0a5-9583-4bf0-8dda-e976f0e70f8a",
     "showTitle": false,
     "tableResultSettingsMap": {},
     "title": ""
    }
   },
   "source": [
    "1. -Se cambian los nombres de las columnas\n"
   ]
  },
  {
   "cell_type": "code",
   "execution_count": 0,
   "metadata": {
    "application/vnd.databricks.v1+cell": {
     "cellMetadata": {
      "byteLimit": 2048000,
      "rowLimit": 10000
     },
     "inputWidgets": {},
     "nuid": "88534a78-4dd5-4520-bad5-364618fb0e3e",
     "showTitle": false,
     "tableResultSettingsMap": {},
     "title": ""
    }
   },
   "outputs": [
    {
     "output_type": "execute_result",
     "data": {
      "text/plain": [
       "['id',\n",
       " 'genero',\n",
       " 'edad',\n",
       " 'hipertension',\n",
       " 'enfCardiaca',\n",
       " 'EdoCivil',\n",
       " 'trabajo',\n",
       " 'residencia',\n",
       " 'nivelGlucosa',\n",
       " 'IMC',\n",
       " 'Fumador',\n",
       " 'paraCardiaco']"
      ]
     },
     "execution_count": 40,
     "metadata": {},
     "output_type": "execute_result"
    }
   ],
   "source": [
    "nuevosNombres = ['id','genero','edad','hipertension','enfCardiaca','EdoCivil','trabajo','residencia','nivelGlucosa','IMC','Fumador','paraCardiaco']\n",
    "\n",
    "for antes, nuevo in zip(df00.columns, nuevosNombres):\n",
    "    df01 = df01.withColumnRenamed(antes,nuevo)\n",
    "df01.columns"
   ]
  },
  {
   "cell_type": "markdown",
   "metadata": {
    "application/vnd.databricks.v1+cell": {
     "cellMetadata": {},
     "inputWidgets": {},
     "nuid": "20d62648-a3e0-4723-a059-df6fe86328b7",
     "showTitle": false,
     "tableResultSettingsMap": {},
     "title": ""
    }
   },
   "source": [
    "Revisión  de Tipos de Datos\n"
   ]
  },
  {
   "cell_type": "code",
   "execution_count": 0,
   "metadata": {
    "application/vnd.databricks.v1+cell": {
     "cellMetadata": {
      "byteLimit": 2048000,
      "rowLimit": 10000
     },
     "inputWidgets": {},
     "nuid": "527532a8-c075-4111-94bd-2948c43251e4",
     "showTitle": false,
     "tableResultSettingsMap": {},
     "title": ""
    }
   },
   "outputs": [
    {
     "output_type": "stream",
     "name": "stdout",
     "output_type": "stream",
     "text": [
      "root\n |-- id: string (nullable = true)\n |-- genero: string (nullable = true)\n |-- edad: string (nullable = true)\n |-- hipertension: string (nullable = true)\n |-- enfCardiaca: string (nullable = true)\n |-- EdoCivil: string (nullable = true)\n |-- trabajo: string (nullable = true)\n |-- residencia: string (nullable = true)\n |-- nivelGlucosa: string (nullable = true)\n |-- IMC: string (nullable = true)\n |-- Fumador: string (nullable = true)\n |-- paraCardiaco: string (nullable = true)\n\n"
     ]
    }
   ],
   "source": [
    "df01.printSchema()"
   ]
  },
  {
   "cell_type": "markdown",
   "metadata": {
    "application/vnd.databricks.v1+cell": {
     "cellMetadata": {},
     "inputWidgets": {},
     "nuid": "d68b8716-0738-45cb-b84e-fe0f3f2ae6a0",
     "showTitle": false,
     "tableResultSettingsMap": {},
     "title": ""
    }
   },
   "source": [
    "En relación a la coherencia de los datos, se procede a :\n",
    "    - El tipo de dato \"IMC\", se pasa a tipo de dato \"double\"\n",
    "    - El topo de dato \"edad\", se pasa a tipo de dato \"integer\""
   ]
  },
  {
   "cell_type": "code",
   "execution_count": 0,
   "metadata": {
    "application/vnd.databricks.v1+cell": {
     "cellMetadata": {
      "byteLimit": 2048000,
      "rowLimit": 10000
     },
     "inputWidgets": {},
     "nuid": "07d84d66-82db-4394-b552-e71b8f286839",
     "showTitle": false,
     "tableResultSettingsMap": {},
     "title": ""
    }
   },
   "outputs": [],
   "source": [
    "df01 = df01.withColumn(\"edad\", df01.edad.cast(\"int\"))\n",
    "df01 = df01.withColumn(\"IMC\", df01.IMC.cast(\"double\"))"
   ]
  },
  {
   "cell_type": "markdown",
   "metadata": {
    "application/vnd.databricks.v1+cell": {
     "cellMetadata": {},
     "inputWidgets": {},
     "nuid": "0af8827e-a81f-450a-9b59-edf045de8b6f",
     "showTitle": false,
     "tableResultSettingsMap": {},
     "title": ""
    }
   },
   "source": [
    "Revision de objeto dataframe spark"
   ]
  },
  {
   "cell_type": "code",
   "execution_count": 0,
   "metadata": {
    "application/vnd.databricks.v1+cell": {
     "cellMetadata": {
      "byteLimit": 2048000,
      "rowLimit": 10000
     },
     "inputWidgets": {},
     "nuid": "2ea71ed9-1afa-4467-8155-ff67cb8c05be",
     "showTitle": false,
     "tableResultSettingsMap": {},
     "title": ""
    }
   },
   "outputs": [
    {
     "output_type": "stream",
     "name": "stdout",
     "output_type": "stream",
     "text": [
      "+-----+------+----+------------+-----------+--------+-------------+----------+------------+----+---------------+------------+\n|   id|genero|edad|hipertension|enfCardiaca|EdoCivil|      trabajo|residencia|nivelGlucosa| IMC|        Fumador|paraCardiaco|\n+-----+------+----+------------+-----------+--------+-------------+----------+------------+----+---------------+------------+\n| 9046|  Male|  67|           0|          1|     Yes|      Private|     Urban|      228.69|36.6|formerly smoked|           1|\n|51676|Female|  61|           0|          0|     Yes|Self-employed|     Rural|      202.21|NULL|   never smoked|           1|\n|31112|  Male|  80|           0|          1|     Yes|      Private|     Rural|      105.92|32.5|   never smoked|           1|\n|60182|Female|  49|           0|          0|     Yes|      Private|     Urban|      171.23|34.4|         smokes|           1|\n| 1665|Female|  79|           1|          0|     Yes|Self-employed|     Rural|      174.12|24.0|   never smoked|           1|\n|56669|  Male|  81|           0|          0|     Yes|      Private|     Urban|      186.21|29.0|formerly smoked|           1|\n|53882|  Male|  74|           1|          1|     Yes|      Private|     Rural|       70.09|27.4|   never smoked|           1|\n|10434|Female|  69|           0|          0|      No|      Private|     Urban|       94.39|22.8|   never smoked|           1|\n|27419|Female|  59|           0|          0|     Yes|      Private|     Rural|       76.15|NULL|        Unknown|           1|\n|60491|Female|  78|           0|          0|     Yes|      Private|     Urban|       58.57|24.2|        Unknown|           1|\n+-----+------+----+------------+-----------+--------+-------------+----------+------------+----+---------------+------------+\nonly showing top 10 rows\n\n"
     ]
    }
   ],
   "source": [
    "df01.show(10)"
   ]
  },
  {
   "cell_type": "markdown",
   "metadata": {
    "application/vnd.databricks.v1+cell": {
     "cellMetadata": {},
     "inputWidgets": {},
     "nuid": "f174410f-0e20-4a13-ad8b-9fd68e3eca9c",
     "showTitle": false,
     "tableResultSettingsMap": {},
     "title": ""
    }
   },
   "source": [
    "Revisión de datos nulos o imposibles"
   ]
  },
  {
   "cell_type": "code",
   "execution_count": 0,
   "metadata": {
    "application/vnd.databricks.v1+cell": {
     "cellMetadata": {
      "byteLimit": 2048000,
      "rowLimit": 10000
     },
     "inputWidgets": {},
     "nuid": "d51861e1-6ccc-4629-ae71-ddc51bf0e8ab",
     "showTitle": false,
     "tableResultSettingsMap": {},
     "title": ""
    }
   },
   "outputs": [
    {
     "output_type": "stream",
     "name": "stdout",
     "output_type": "stream",
     "text": [
      "+---+------+----+------------+-----------+--------+-------+----------+------------+---+-------+------------+\n| id|genero|edad|hipertension|enfCardiaca|EdoCivil|trabajo|residencia|nivelGlucosa|IMC|Fumador|paraCardiaco|\n+---+------+----+------------+-----------+--------+-------+----------+------------+---+-------+------------+\n|  0|     0|   0|           0|          0|       0|      0|         0|           0|201|      0|           0|\n+---+------+----+------------+-----------+--------+-------+----------+------------+---+-------+------------+\n\n"
     ]
    }
   ],
   "source": [
    "df01.select([count(when(isnan(c) | col(c).isNull(),c)).alias(c) for c in df01.columns]).show()"
   ]
  }
 ],
 "metadata": {
  "application/vnd.databricks.v1+notebook": {
   "computePreferences": null,
   "dashboards": [],
   "environmentMetadata": {
    "base_environment": "",
    "client": "1"
   },
   "language": "python",
   "notebookMetadata": {
    "pythonIndentUnit": 4
   },
   "notebookName": "Ortiz_03_02",
   "widgets": {}
  }
 },
 "nbformat": 4,
 "nbformat_minor": 0
}
