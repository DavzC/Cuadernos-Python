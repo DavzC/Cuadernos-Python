{
 "cells": [
  {
   "cell_type": "markdown",
   "metadata": {
    "application/vnd.databricks.v1+cell": {
     "cellMetadata": {
      "byteLimit": 2048000,
      "rowLimit": 10000
     },
     "inputWidgets": {},
     "nuid": "41668673-ff49-4540-abda-8300043ac658",
     "showTitle": false,
     "tableResultSettingsMap": {},
     "title": ""
    }
   },
   "source": [
    "**Fecha:** _03-02-2025_, _03-02-2025_\n",
    "\n",
    "**Autor:** _D. Ortiz_\n",
    "\n",
    "**Materia:** _Procesamiento de Alto Volúmen de Datos_\n",
    "\n",
    "**Tópico:** _Introducción a PySapark en el Ambiente Databricks_"
   ]
  },
  {
   "cell_type": "markdown",
   "metadata": {
    "application/vnd.databricks.v1+cell": {
     "cellMetadata": {},
     "inputWidgets": {},
     "nuid": "5c0e131c-9ed6-4c79-83ad-188ccb1c7abe",
     "showTitle": false,
     "tableResultSettingsMap": {},
     "title": ""
    }
   },
   "source": [
    "Importación de librerias"
   ]
  },
  {
   "cell_type": "code",
   "execution_count": 0,
   "metadata": {
    "application/vnd.databricks.v1+cell": {
     "cellMetadata": {
      "byteLimit": 2048000,
      "rowLimit": 10000
     },
     "inputWidgets": {},
     "nuid": "fffbc1d7-8bda-4750-8e0c-92daa199b2b2",
     "showTitle": false,
     "tableResultSettingsMap": {},
     "title": ""
    }
   },
   "outputs": [],
   "source": [
    "import numpy as np\n",
    "import matplotlib.pyplot as plt\n",
    "import seaborn as sns\n",
    "from pyspark.sql import SQLContext\n",
    "from pyspark.sql.types import *\n",
    "from pyspark.sql.functions import *\n"
   ]
  },
  {
   "cell_type": "markdown",
   "metadata": {
    "application/vnd.databricks.v1+cell": {
     "cellMetadata": {},
     "inputWidgets": {},
     "nuid": "975e604d-d64b-4a8c-a7f3-5082c6d552fc",
     "showTitle": false,
     "tableResultSettingsMap": {},
     "title": ""
    }
   },
   "source": [
    "Carga de datos al dataframe y revisión de sus categorías"
   ]
  },
  {
   "cell_type": "code",
   "execution_count": 0,
   "metadata": {
    "application/vnd.databricks.v1+cell": {
     "cellMetadata": {
      "byteLimit": 2048000,
      "rowLimit": 10000
     },
     "inputWidgets": {},
     "nuid": "578701ae-fbf8-4cf7-83c5-86447c57ac7c",
     "showTitle": false,
     "tableResultSettingsMap": {},
     "title": ""
    }
   },
   "outputs": [
    {
     "output_type": "execute_result",
     "data": {
      "text/plain": [
       "['id',\n",
       " 'gender',\n",
       " 'age',\n",
       " 'hypertension',\n",
       " 'heart_disease',\n",
       " 'ever_married',\n",
       " 'work_type',\n",
       " 'Residence_type',\n",
       " 'avg_glucose_level',\n",
       " 'bmi',\n",
       " 'smoking_status',\n",
       " 'stroke']"
      ]
     },
     "execution_count": 5,
     "metadata": {},
     "output_type": "execute_result"
    }
   ],
   "source": [
    "df00= spark.read.table(\"default.stroke_pyspark_3_csv\")\n",
    "\n",
    "df00.columns"
   ]
  },
  {
   "cell_type": "markdown",
   "metadata": {
    "application/vnd.databricks.v1+cell": {
     "cellMetadata": {
      "byteLimit": 2048000,
      "rowLimit": 10000
     },
     "inputWidgets": {},
     "nuid": "806ef0a5-9583-4bf0-8dda-e976f0e70f8a",
     "showTitle": false,
     "tableResultSettingsMap": {},
     "title": ""
    }
   },
   "source": [
    "1. -Se cambian los nombres de las columnas\n"
   ]
  },
  {
   "cell_type": "code",
   "execution_count": 0,
   "metadata": {
    "application/vnd.databricks.v1+cell": {
     "cellMetadata": {
      "byteLimit": 2048000,
      "rowLimit": 10000
     },
     "inputWidgets": {},
     "nuid": "88534a78-4dd5-4520-bad5-364618fb0e3e",
     "showTitle": false,
     "tableResultSettingsMap": {},
     "title": ""
    }
   },
   "outputs": [
    {
     "output_type": "execute_result",
     "data": {
      "text/plain": [
       "['id',\n",
       " 'genero',\n",
       " 'edad',\n",
       " 'hipertension',\n",
       " 'enfCardiaca',\n",
       " 'EdoCivil',\n",
       " 'trabajo',\n",
       " 'residencia',\n",
       " 'nivelGlucosa',\n",
       " 'IMC',\n",
       " 'Fumador',\n",
       " 'paraCardiaco']"
      ]
     },
     "execution_count": 6,
     "metadata": {},
     "output_type": "execute_result"
    }
   ],
   "source": [
    "nuevosNombres = ['id','genero','edad','hipertension','enfCardiaca','EdoCivil','trabajo','residencia','nivelGlucosa','IMC','Fumador','paraCardiaco']\n",
    "df01=df00\n",
    "for antes, nuevo in zip(df00.columns, nuevosNombres):\n",
    "    df01 = df01.withColumnRenamed(antes,nuevo)\n",
    "df01.columns"
   ]
  },
  {
   "cell_type": "markdown",
   "metadata": {
    "application/vnd.databricks.v1+cell": {
     "cellMetadata": {
      "byteLimit": 2048000,
      "rowLimit": 10000
     },
     "inputWidgets": {},
     "nuid": "20d62648-a3e0-4723-a059-df6fe86328b7",
     "showTitle": false,
     "tableResultSettingsMap": {},
     "title": ""
    }
   },
   "source": [
    "Revisión  de Tipos de Datos\n"
   ]
  },
  {
   "cell_type": "code",
   "execution_count": 0,
   "metadata": {
    "application/vnd.databricks.v1+cell": {
     "cellMetadata": {
      "byteLimit": 2048000,
      "rowLimit": 10000
     },
     "inputWidgets": {},
     "nuid": "527532a8-c075-4111-94bd-2948c43251e4",
     "showTitle": false,
     "tableResultSettingsMap": {},
     "title": ""
    }
   },
   "outputs": [
    {
     "output_type": "stream",
     "name": "stdout",
     "output_type": "stream",
     "text": [
      "root\n |-- id: string (nullable = true)\n |-- genero: string (nullable = true)\n |-- edad: string (nullable = true)\n |-- hipertension: string (nullable = true)\n |-- enfCardiaca: string (nullable = true)\n |-- EdoCivil: string (nullable = true)\n |-- trabajo: string (nullable = true)\n |-- residencia: string (nullable = true)\n |-- nivelGlucosa: string (nullable = true)\n |-- IMC: string (nullable = true)\n |-- Fumador: string (nullable = true)\n |-- paraCardiaco: string (nullable = true)\n\n"
     ]
    }
   ],
   "source": [
    "df01.printSchema()"
   ]
  },
  {
   "cell_type": "markdown",
   "metadata": {
    "application/vnd.databricks.v1+cell": {
     "cellMetadata": {
      "byteLimit": 2048000,
      "rowLimit": 10000
     },
     "inputWidgets": {},
     "nuid": "d68b8716-0738-45cb-b84e-fe0f3f2ae6a0",
     "showTitle": false,
     "tableResultSettingsMap": {},
     "title": ""
    }
   },
   "source": [
    "En relación a la coherencia de los datos, se procede a :\n",
    "    - El tipo de dato \"IMC\", se pasa a tipo de dato \"double\"\n",
    "    - El topo de dato \"edad\", se pasa a tipo de dato \"integer\""
   ]
  },
  {
   "cell_type": "code",
   "execution_count": 0,
   "metadata": {
    "application/vnd.databricks.v1+cell": {
     "cellMetadata": {
      "byteLimit": 2048000,
      "rowLimit": 10000
     },
     "inputWidgets": {},
     "nuid": "07d84d66-82db-4394-b552-e71b8f286839",
     "showTitle": false,
     "tableResultSettingsMap": {},
     "title": ""
    }
   },
   "outputs": [],
   "source": [
    "df01 = df01.withColumn(\"edad\", df01.edad.cast(\"int\"))\n",
    "df01 = df01.withColumn(\"IMC\", df01.IMC.cast(\"double\"))"
   ]
  },
  {
   "cell_type": "markdown",
   "metadata": {
    "application/vnd.databricks.v1+cell": {
     "cellMetadata": {
      "byteLimit": 2048000,
      "rowLimit": 10000
     },
     "inputWidgets": {},
     "nuid": "0af8827e-a81f-450a-9b59-edf045de8b6f",
     "showTitle": false,
     "tableResultSettingsMap": {},
     "title": ""
    }
   },
   "source": [
    "Revision de objeto dataframe spark"
   ]
  },
  {
   "cell_type": "code",
   "execution_count": 0,
   "metadata": {
    "application/vnd.databricks.v1+cell": {
     "cellMetadata": {
      "byteLimit": 2048000,
      "rowLimit": 10000
     },
     "inputWidgets": {},
     "nuid": "2ea71ed9-1afa-4467-8155-ff67cb8c05be",
     "showTitle": false,
     "tableResultSettingsMap": {},
     "title": ""
    }
   },
   "outputs": [
    {
     "output_type": "stream",
     "name": "stdout",
     "output_type": "stream",
     "text": [
      "+-----+------+----+------------+-----------+--------+-------------+----------+------------+----+---------------+------------+\n|   id|genero|edad|hipertension|enfCardiaca|EdoCivil|      trabajo|residencia|nivelGlucosa| IMC|        Fumador|paraCardiaco|\n+-----+------+----+------------+-----------+--------+-------------+----------+------------+----+---------------+------------+\n| 9046|  Male|  67|           0|          1|     Yes|      Private|     Urban|      228.69|36.6|formerly smoked|           1|\n|51676|Female|  61|           0|          0|     Yes|Self-employed|     Rural|      202.21|NULL|   never smoked|           1|\n|31112|  Male|  80|           0|          1|     Yes|      Private|     Rural|      105.92|32.5|   never smoked|           1|\n|60182|Female|  49|           0|          0|     Yes|      Private|     Urban|      171.23|34.4|         smokes|           1|\n| 1665|Female|  79|           1|          0|     Yes|Self-employed|     Rural|      174.12|24.0|   never smoked|           1|\n|56669|  Male|  81|           0|          0|     Yes|      Private|     Urban|      186.21|29.0|formerly smoked|           1|\n|53882|  Male|  74|           1|          1|     Yes|      Private|     Rural|       70.09|27.4|   never smoked|           1|\n|10434|Female|  69|           0|          0|      No|      Private|     Urban|       94.39|22.8|   never smoked|           1|\n|27419|Female|  59|           0|          0|     Yes|      Private|     Rural|       76.15|NULL|        Unknown|           1|\n|60491|Female|  78|           0|          0|     Yes|      Private|     Urban|       58.57|24.2|        Unknown|           1|\n+-----+------+----+------------+-----------+--------+-------------+----------+------------+----+---------------+------------+\nonly showing top 10 rows\n\n"
     ]
    }
   ],
   "source": [
    "df01.show(10)"
   ]
  },
  {
   "cell_type": "markdown",
   "metadata": {
    "application/vnd.databricks.v1+cell": {
     "cellMetadata": {
      "byteLimit": 2048000,
      "rowLimit": 10000
     },
     "inputWidgets": {},
     "nuid": "f174410f-0e20-4a13-ad8b-9fd68e3eca9c",
     "showTitle": false,
     "tableResultSettingsMap": {},
     "title": ""
    }
   },
   "source": [
    "Revisión de datos nulos o imposibles"
   ]
  },
  {
   "cell_type": "code",
   "execution_count": 0,
   "metadata": {
    "application/vnd.databricks.v1+cell": {
     "cellMetadata": {
      "byteLimit": 2048000,
      "rowLimit": 10000
     },
     "inputWidgets": {},
     "nuid": "d51861e1-6ccc-4629-ae71-ddc51bf0e8ab",
     "showTitle": false,
     "tableResultSettingsMap": {},
     "title": ""
    }
   },
   "outputs": [
    {
     "output_type": "stream",
     "name": "stdout",
     "output_type": "stream",
     "text": [
      "+---+------+----+------------+-----------+--------+-------+----------+------------+---+-------+------------+\n| id|genero|edad|hipertension|enfCardiaca|EdoCivil|trabajo|residencia|nivelGlucosa|IMC|Fumador|paraCardiaco|\n+---+------+----+------------+-----------+--------+-------+----------+------------+---+-------+------------+\n|  0|     0|   0|           0|          0|       0|      0|         0|           0|201|      0|           0|\n+---+------+----+------------+-----------+--------+-------+----------+------------+---+-------+------------+\n\n"
     ]
    }
   ],
   "source": [
    "df01.select([count(when(isnan(c) | col(c).isNull(),c)).alias(c) for c in df01.columns]).show()"
   ]
  },
  {
   "cell_type": "markdown",
   "metadata": {
    "application/vnd.databricks.v1+cell": {
     "cellMetadata": {},
     "inputWidgets": {},
     "nuid": "775cc9f9-20b9-4068-a4dd-57a03a834965",
     "showTitle": false,
     "tableResultSettingsMap": {},
     "title": ""
    }
   },
   "source": [
    "Revisión de distribución de datos"
   ]
  },
  {
   "cell_type": "code",
   "execution_count": 0,
   "metadata": {
    "application/vnd.databricks.v1+cell": {
     "cellMetadata": {
      "byteLimit": 2048000,
      "rowLimit": 10000
     },
     "inputWidgets": {},
     "nuid": "32110833-69d8-485c-a765-b68693f674ba",
     "showTitle": false,
     "tableResultSettingsMap": {},
     "title": ""
    }
   },
   "outputs": [
    {
     "output_type": "stream",
     "name": "stdout",
     "output_type": "stream",
     "text": [
      "+-----+-----+\n|   id|count|\n+-----+-----+\n|51676|    1|\n|68794|    1|\n|70822|    1|\n|52800|    1|\n|49003|    1|\n|29865|    1|\n|39659|    1|\n|56831|    1|\n|46683|    1|\n| 3606|    1|\n| 7273|    1|\n|18306|    1|\n|42743|    1|\n|59370|    1|\n|23459|    1|\n|57569|    1|\n|57904|    1|\n|10351|    1|\n|22254|    1|\n|10436|    1|\n+-----+-----+\nonly showing top 20 rows\n\n+----+-----+\n|edad|count|\n+----+-----+\n|  31|   79|\n|  65|   62|\n|  53|   85|\n|  78|  102|\n|  34|   68|\n|  81|   60|\n|  28|   54|\n|  76|   50|\n|  27|   55|\n|  26|   62|\n|  44|   75|\n|  12|   45|\n|  22|   45|\n|  47|   75|\n|   1|   77|\n|  52|   90|\n|  13|   57|\n|  16|   52|\n|   6|   24|\n|   3|   46|\n+----+-----+\nonly showing top 20 rows\n\n+------------+-----+\n|hipertension|count|\n+------------+-----+\n|           0| 4612|\n|           1|  498|\n+------------+-----+\n\n+-----------+-----+\n|enfCardiaca|count|\n+-----------+-----+\n|          0| 4834|\n|          1|  276|\n+-----------+-----+\n\n+--------+-----+\n|EdoCivil|count|\n+--------+-----+\n|      No| 1757|\n|     Yes| 3353|\n+--------+-----+\n\n+-------------+-----+\n|      trabajo|count|\n+-------------+-----+\n| Never_worked|   22|\n|Self-employed|  819|\n|      Private| 2925|\n|     children|  687|\n|     Govt_job|  657|\n+-------------+-----+\n\n+----------+-----+\n|residencia|count|\n+----------+-----+\n|     Urban| 2596|\n|     Rural| 2514|\n+----------+-----+\n\n+------------+-----+\n|nivelGlucosa|count|\n+------------+-----+\n|      105.92|    1|\n|      219.84|    1|\n|       73.54|    2|\n|      199.86|    1|\n|       79.14|    1|\n|       90.78|    2|\n|       83.65|    1|\n|       65.32|    1|\n|       78.59|    2|\n|      198.36|    1|\n|       55.41|    1|\n|       65.66|    2|\n|        58.7|    1|\n|      152.87|    1|\n|        78.9|    2|\n|        73.7|    1|\n|      104.26|    1|\n|      221.58|    1|\n|       96.78|    1|\n|       94.63|    2|\n+------------+-----+\nonly showing top 20 rows\n\n+----+-----+\n| IMC|count|\n+----+-----+\n|26.7|   37|\n|15.5|    5|\n|49.8|    3|\n|13.4|    1|\n|14.9|    1|\n|47.5|    3|\n|15.4|    3|\n|37.1|    7|\n|25.1|   34|\n|15.7|    3|\n|45.3|    4|\n|32.3|   28|\n|18.3|   17|\n|24.7|   22|\n|44.8|    4|\n|49.9|    1|\n|50.9|    1|\n|54.2|    1|\n|26.4|   34|\n|43.3|    5|\n+----+-----+\nonly showing top 20 rows\n\n+---------------+-----+\n|        Fumador|count|\n+---------------+-----+\n|         smokes|  789|\n|        Unknown| 1544|\n|   never smoked| 1892|\n|formerly smoked|  885|\n+---------------+-----+\n\n+------------+-----+\n|paraCardiaco|count|\n+------------+-----+\n|           0| 4861|\n|           1|  249|\n+------------+-----+\n\n"
     ]
    }
   ],
   "source": [
    "df01.groupby('id').count().show()\n",
    "df01.groupby('edad').count().show()\n",
    "df01.groupby('hipertension').count().show()\n",
    "df01.groupby('enfCardiaca').count().show()\n",
    "df01.groupby('EdoCivil').count().show()\n",
    "df01.groupby('trabajo').count().show()\n",
    "df01.groupby('residencia').count().show()\n",
    "df01.groupby('nivelGlucosa').count().show()\n",
    "df01.groupby('IMC').count().show()\n",
    "df01.groupby('Fumador').count().show()\n",
    "df01.groupby('paraCardiaco').count().show()\n"
   ]
  },
  {
   "cell_type": "markdown",
   "metadata": {
    "application/vnd.databricks.v1+cell": {
     "cellMetadata": {
      "byteLimit": 2048000,
      "rowLimit": 10000
     },
     "inputWidgets": {},
     "nuid": "548447ff-ece8-4ead-89ed-91869bb285a5",
     "showTitle": false,
     "tableResultSettingsMap": {},
     "title": ""
    }
   },
   "source": [
    "Se puede observar que la columan IMC presenta datos Nulos o imposibles.\n",
    "A pesar quue el pocentaje de datos nulos es muy bajo, se requiere crear una estrategia para mutar o cambiar los datos, sin que sean eliminados.\n",
    "\n",
    "- Se requiere hacer estratos de promedios cada 10 años\n",
    "- Los promedios por estratos se catalogan por género\n",
    "- Se sustituye por el promedio los nulos según género/estrato_edad"
   ]
  },
  {
   "cell_type": "code",
   "execution_count": 0,
   "metadata": {
    "application/vnd.databricks.v1+cell": {
     "cellMetadata": {
      "byteLimit": 2048000,
      "rowLimit": 10000
     },
     "inputWidgets": {},
     "nuid": "d5879e0c-e8ad-4e15-bc5b-affad3495f67",
     "showTitle": false,
     "tableResultSettingsMap": {},
     "title": ""
    }
   },
   "outputs": [
    {
     "output_type": "stream",
     "name": "stdout",
     "output_type": "stream",
     "text": [
      "+------+-----+\n|genero|count|\n+------+-----+\n|Female| 2994|\n| Other|    1|\n|  Male| 2115|\n+------+-----+\n\n"
     ]
    }
   ],
   "source": [
    "#Obtener cantidad total de registros \n",
    "df01.groupby('genero').count().show()"
   ]
  },
  {
   "cell_type": "markdown",
   "metadata": {
    "application/vnd.databricks.v1+cell": {
     "cellMetadata": {},
     "inputWidgets": {},
     "nuid": "7137a3c3-03ff-4c32-9e7a-1e8e2669b9db",
     "showTitle": false,
     "tableResultSettingsMap": {},
     "title": ""
    }
   },
   "source": [
    "Se elimina el valor de Other para que solo queden dos géneros"
   ]
  },
  {
   "cell_type": "code",
   "execution_count": 0,
   "metadata": {
    "application/vnd.databricks.v1+cell": {
     "cellMetadata": {
      "byteLimit": 2048000,
      "rowLimit": 10000
     },
     "inputWidgets": {},
     "nuid": "fef5d63b-9b9f-4640-af66-779a6946095b",
     "showTitle": false,
     "tableResultSettingsMap": {},
     "title": ""
    }
   },
   "outputs": [
    {
     "output_type": "stream",
     "name": "stdout",
     "output_type": "stream",
     "text": [
      "+------+-----+\n|genero|count|\n+------+-----+\n|Female| 2994|\n|  Male| 2115|\n+------+-----+\n\n"
     ]
    }
   ],
   "source": [
    "#Se descarta el registro cuyo valor en género es \"Other\n",
    "df02 = df01.where(\"genero <> 'Other'\")\n",
    "\n",
    "#Se verifica que ya no está Other\n",
    "\n",
    "df02.groupby('genero').count().show()"
   ]
  },
  {
   "cell_type": "markdown",
   "metadata": {
    "application/vnd.databricks.v1+cell": {
     "cellMetadata": {},
     "inputWidgets": {},
     "nuid": "402a9036-c9a1-451e-a362-086f1a822b05",
     "showTitle": false,
     "tableResultSettingsMap": {},
     "title": ""
    }
   },
   "source": [
    "Se haya el promedio por rangos de edad del IMC"
   ]
  },
  {
   "cell_type": "code",
   "execution_count": 0,
   "metadata": {
    "application/vnd.databricks.v1+cell": {
     "cellMetadata": {
      "byteLimit": 2048000,
      "rowLimit": 10000
     },
     "inputWidgets": {},
     "nuid": "a6763529-e923-40e2-beaa-702d40763825",
     "showTitle": false,
     "tableResultSettingsMap": {},
     "title": ""
    }
   },
   "outputs": [
    {
     "output_type": "stream",
     "name": "stdout",
     "output_type": "stream",
     "text": [
      "[Row(avg(IMC)=18.687962962962963)]\n"
     ]
    }
   ],
   "source": [
    "#Se extrae promedio por IMC de Edades y Female\n",
    "\n",
    "avg10F = df02.where((col('genero') == lit('Female')) & (col('edad') < 10)).select(mean(col('IMC'))).collect()\n",
    "avg20F = df02.where((col('genero') == lit('Female')) & (col('edad') > 10) & (col('edad') < 20)).select(mean(col('IMC'))).collect()\n",
    "avg30F = df02.where((col('genero') == lit('Female')) & (col('edad') > 20) & (col('edad') < 30)).select(mean(col('IMC'))).collect()\n",
    "avg40F = df02.where((col('genero') == lit('Female')) & (col('edad') > 30) & (col('edad') < 40)).select(mean(col('IMC'))).collect()\n",
    "avg50F = df02.where((col('genero') == lit('Female')) & (col('edad') > 40) & (col('edad') < 50)).select(mean(col('IMC'))).collect()\n",
    "avg60F = df02.where((col('genero') == lit('Female')) & (col('edad') > 50) & (col('edad') < 60)).select(mean(col('IMC'))).collect()\n",
    "avg70F = df02.where((col('genero') == lit('Female')) & (col('edad') > 60) & (col('edad') < 70)).select(mean(col('IMC'))).collect()\n",
    "avg80F = df02.where((col('genero') == lit('Female')) & (col('edad') > 70) & (col('edad') < 80)).select(mean(col('IMC'))).collect()\n",
    "avg90F = df02.where((col('genero') == lit('Female')) & (col('edad') > 80) & (col('edad') < 90)).select(mean(col('IMC'))).collect()\n",
    "\n",
    "\n",
    "\n",
    "print(avg10F)"
   ]
  },
  {
   "cell_type": "markdown",
   "metadata": {
    "application/vnd.databricks.v1+cell": {
     "cellMetadata": {},
     "inputWidgets": {},
     "nuid": "0fad26ee-57d7-4d43-8d0d-2618f375a097",
     "showTitle": false,
     "tableResultSettingsMap": {},
     "title": ""
    }
   },
   "source": [
    "Reemplazamos el promedio que hallaamos anteriormente en los valores nulos del IMC"
   ]
  },
  {
   "cell_type": "code",
   "execution_count": 0,
   "metadata": {
    "application/vnd.databricks.v1+cell": {
     "cellMetadata": {
      "byteLimit": 2048000,
      "rowLimit": 10000
     },
     "inputWidgets": {},
     "nuid": "543cd9f5-8868-4720-b8e1-d3230632c3e1",
     "showTitle": false,
     "tableResultSettingsMap": {},
     "title": ""
    }
   },
   "outputs": [],
   "source": [
    "df03 = df02.withColumn(\n",
    "    \"IMC\", \n",
    "    when(\n",
    "        (df02['genero'] == 'Female') & \n",
    "        (df02['IMC'].isNull()) & \n",
    "        (df02['edad'] < 10), \n",
    "        avg10F[0][0]\n",
    "    ).otherwise(df02['IMC'])\n",
    ")\n",
    "\n",
    "df03 = df02.withColumn(\n",
    "    \"IMC\", \n",
    "    when(\n",
    "        (df02['genero'] == 'Female') & \n",
    "        (df02['IMC'].isNull()) & \n",
    "        (df02['edad'] < 20), \n",
    "        avg20F[0][0]\n",
    "    ).otherwise(df02['IMC'])\n",
    ")\n",
    "\n",
    "df03 = df02.withColumn(\n",
    "    \"IMC\", \n",
    "    when(\n",
    "        (df02['genero'] == 'Female') & \n",
    "        (df02['IMC'].isNull()) & \n",
    "        (df02['edad'] < 30), \n",
    "        avg30F[0][0]\n",
    "    ).otherwise(df02['IMC'])\n",
    ")\n",
    "\n",
    "df03 = df02.withColumn(\n",
    "    \"IMC\", \n",
    "    when(\n",
    "        (df02['genero'] == 'Female') & \n",
    "        (df02['IMC'].isNull()) & \n",
    "        (df02['edad'] < 40), \n",
    "        avg40F[0][0]\n",
    "    ).otherwise(df02['IMC'])\n",
    ")\n",
    "\n",
    "df03 = df02.withColumn(\n",
    "    \"IMC\", \n",
    "    when(\n",
    "        (df02['genero'] == 'Female') & \n",
    "        (df02['IMC'].isNull()) & \n",
    "        (df02['edad'] < 50), \n",
    "        avg50F[0][0]\n",
    "    ).otherwise(df02['IMC'])\n",
    ")\n",
    "\n",
    "df03 = df02.withColumn(\n",
    "    \"IMC\", \n",
    "    when(\n",
    "        (df02['genero'] == 'Female') & \n",
    "        (df02['IMC'].isNull()) & \n",
    "        (df02['edad'] < 60), \n",
    "        avg60F[0][0]\n",
    "    ).otherwise(df02['IMC'])\n",
    ")\n",
    "\n",
    "df03 = df02.withColumn(\n",
    "    \"IMC\", \n",
    "    when(\n",
    "        (df02['genero'] == 'Female') & \n",
    "        (df02['IMC'].isNull()) & \n",
    "        (df02['edad'] < 70), \n",
    "        avg70F[0][0]\n",
    "    ).otherwise(df02['IMC'])\n",
    ")\n",
    "\n",
    "df03 = df02.withColumn(\n",
    "    \"IMC\", \n",
    "    when(\n",
    "        (df02['genero'] == 'Female') & \n",
    "        (df02['IMC'].isNull()) & \n",
    "        (df02['edad'] < 80), \n",
    "        avg80F[0][0]\n",
    "    ).otherwise(df02['IMC'])\n",
    ")\n",
    "\n",
    "df03 = df02.withColumn(\n",
    "    \"IMC\", \n",
    "    when(\n",
    "        (df02['genero'] == 'Female') & \n",
    "        (df02['IMC'].isNull()) & \n",
    "        (df02['edad'] < 90), \n",
    "        avg90F[0][0]\n",
    "    ).otherwise(df02['IMC'])\n",
    ")\n"
   ]
  },
  {
   "cell_type": "markdown",
   "metadata": {
    "application/vnd.databricks.v1+cell": {
     "cellMetadata": {},
     "inputWidgets": {},
     "nuid": "4bd8c581-95b0-4bf4-83d6-1a273622c3c9",
     "showTitle": false,
     "tableResultSettingsMap": {},
     "title": ""
    }
   },
   "source": [
    "Revisamos el cambio "
   ]
  },
  {
   "cell_type": "code",
   "execution_count": 0,
   "metadata": {
    "application/vnd.databricks.v1+cell": {
     "cellMetadata": {
      "byteLimit": 2048000,
      "rowLimit": 10000
     },
     "inputWidgets": {},
     "nuid": "4bc5dcb5-f5cf-41af-848c-7ec0606f6748",
     "showTitle": false,
     "tableResultSettingsMap": {},
     "title": ""
    }
   },
   "outputs": [
    {
     "output_type": "stream",
     "name": "stdout",
     "output_type": "stream",
     "text": [
      "+---+------+----+------------+-----------+--------+-------+----------+------------+---+-------+------------+\n| id|genero|edad|hipertension|enfCardiaca|EdoCivil|trabajo|residencia|nivelGlucosa|IMC|Fumador|paraCardiaco|\n+---+------+----+------------+-----------+--------+-------+----------+------------+---+-------+------------+\n|  0|     0|   0|           0|          0|       0|      0|         0|           0|104|      0|           0|\n+---+------+----+------------+-----------+--------+-------+----------+------------+---+-------+------------+\n\n"
     ]
    }
   ],
   "source": [
    "df03.select([count(when(isnan(c) | col(c).isNull(),c)).alias(c) for c in df03.columns]).show()"
   ]
  },
  {
   "cell_type": "markdown",
   "metadata": {
    "application/vnd.databricks.v1+cell": {
     "cellMetadata": {},
     "inputWidgets": {},
     "nuid": "f0996bd0-5648-42fa-9fed-4f18f165feb8",
     "showTitle": false,
     "tableResultSettingsMap": {},
     "title": ""
    }
   },
   "source": [
    "Se realiza el mismo proceso pero con el género MALE"
   ]
  },
  {
   "cell_type": "code",
   "execution_count": 0,
   "metadata": {
    "application/vnd.databricks.v1+cell": {
     "cellMetadata": {
      "byteLimit": 2048000,
      "rowLimit": 10000
     },
     "inputWidgets": {},
     "nuid": "84b808a6-cd7a-457a-a4a1-a75a2c6e1777",
     "showTitle": false,
     "tableResultSettingsMap": {},
     "title": ""
    }
   },
   "outputs": [
    {
     "output_type": "stream",
     "name": "stdout",
     "output_type": "stream",
     "text": [
      "[Row(avg(IMC)=19.03168724279836)]\n"
     ]
    }
   ],
   "source": [
    "\n",
    "avg10M = df02.where((col('genero') == lit('Male')) & (col('edad') < 10)).select(mean(col('IMC'))).collect()\n",
    "avg20M = df02.where((col('genero') == lit('Male')) & (col('edad') > 10) & (col('edad') < 20)).select(mean(col('IMC'))).collect()\n",
    "avg30M = df02.where((col('genero') == lit('Male')) & (col('edad') > 20) & (col('edad') < 30)).select(mean(col('IMC'))).collect()\n",
    "avg40M = df02.where((col('genero') == lit('Male')) & (col('edad') > 30) & (col('edad') < 40)).select(mean(col('IMC'))).collect()\n",
    "avg50M = df02.where((col('genero') == lit('Male')) & (col('edad') > 40) & (col('edad') < 50)).select(mean(col('IMC'))).collect()\n",
    "avg60M = df02.where((col('genero') == lit('Male')) & (col('edad') > 50) & (col('edad') < 60)).select(mean(col('IMC'))).collect()\n",
    "avg70M = df02.where((col('genero') == lit('Male')) & (col('edad') > 60) & (col('edad') < 70)).select(mean(col('IMC'))).collect()\n",
    "avg80M = df02.where((col('genero') == lit('Male')) & (col('edad') > 70) & (col('edad') < 80)).select(mean(col('IMC'))).collect()\n",
    "avg90M = df02.where((col('genero') == lit('Male')) & (col('edad') > 80) & (col('edad') < 90)).select(mean(col('IMC'))).collect()\n",
    "\n",
    "\n",
    "\n",
    "print(avg10M)"
   ]
  },
  {
   "cell_type": "code",
   "execution_count": 0,
   "metadata": {
    "application/vnd.databricks.v1+cell": {
     "cellMetadata": {
      "byteLimit": 2048000,
      "rowLimit": 10000
     },
     "inputWidgets": {},
     "nuid": "f819dc88-0818-46d2-b725-6bade035974f",
     "showTitle": false,
     "tableResultSettingsMap": {},
     "title": ""
    }
   },
   "outputs": [],
   "source": [
    "df04 = df03.withColumn(\n",
    "    \"IMC\", \n",
    "    when(\n",
    "        (df03['genero'] == 'Male') & \n",
    "        (df03['IMC'].isNull()) & \n",
    "        (df03['edad'] < 10), \n",
    "        avg10M[0][0]\n",
    "    ).otherwise(df03['IMC'])\n",
    ")\n",
    "\n",
    "df04 = df03.withColumn(\n",
    "    \"IMC\", \n",
    "    when(\n",
    "        (df03['genero'] == 'Male') & \n",
    "        (df03['IMC'].isNull()) & \n",
    "        (df03['edad'] < 20), \n",
    "        avg20M[0][0]\n",
    "    ).otherwise(df03['IMC'])\n",
    ")\n",
    "\n",
    "df04 = df03.withColumn(\n",
    "    \"IMC\", \n",
    "    when(\n",
    "        (df03['genero'] == 'Male') & \n",
    "        (df03['IMC'].isNull()) & \n",
    "        (df03['edad'] < 30), \n",
    "        avg30M[0][0]\n",
    "    ).otherwise(df03['IMC'])\n",
    ")\n",
    "\n",
    "df04 = df03.withColumn(\n",
    "    \"IMC\", \n",
    "    when(\n",
    "        (df03['genero'] == 'Male') & \n",
    "        (df03['IMC'].isNull()) & \n",
    "        (df03['edad'] < 40), \n",
    "        avg40M[0][0]\n",
    "    ).otherwise(df03['IMC'])\n",
    ")\n",
    "\n",
    "df04 = df03.withColumn(\n",
    "    \"IMC\", \n",
    "    when(\n",
    "        (df03['genero'] == 'Male') & \n",
    "        (df03['IMC'].isNull()) & \n",
    "        (df03['edad'] < 50), \n",
    "        avg50M[0][0]\n",
    "    ).otherwise(df03['IMC'])\n",
    ")\n",
    "\n",
    "df04 = df03.withColumn(\n",
    "    \"IMC\", \n",
    "    when(\n",
    "        (df03['genero'] == 'Male') & \n",
    "        (df03['IMC'].isNull()) & \n",
    "        (df03['edad'] < 60), \n",
    "        avg60M[0][0]\n",
    "    ).otherwise(df03['IMC'])\n",
    ")\n",
    "\n",
    "df04 = df03.withColumn(\n",
    "    \"IMC\", \n",
    "    when(\n",
    "        (df03['genero'] == 'Male') & \n",
    "        (df03['IMC'].isNull()) & \n",
    "        (df03['edad'] < 70), \n",
    "        avg70M[0][0]\n",
    "    ).otherwise(df03['IMC'])\n",
    ")\n",
    "\n",
    "df04 = df03.withColumn(\n",
    "    \"IMC\", \n",
    "    when(\n",
    "        (df03['genero'] == 'Male') & \n",
    "        (df03['IMC'].isNull()) & \n",
    "        (df03['edad'] < 80), \n",
    "        avg80M[0][0]\n",
    "    ).otherwise(df03['IMC'])\n",
    ")\n",
    "\n",
    "df04 = df03.withColumn(\n",
    "    \"IMC\", \n",
    "    when(\n",
    "        (df03['genero'] == 'Male') & \n",
    "        (df03['IMC'].isNull()) & \n",
    "        (df03['edad'] < 90), \n",
    "        avg90M[0][0]\n",
    "    ).otherwise(df03['IMC'])\n",
    ")"
   ]
  },
  {
   "cell_type": "code",
   "execution_count": 0,
   "metadata": {
    "application/vnd.databricks.v1+cell": {
     "cellMetadata": {
      "byteLimit": 2048000,
      "rowLimit": 10000
     },
     "inputWidgets": {},
     "nuid": "604f0f6d-dcd7-4f35-8f35-d0c290e5568f",
     "showTitle": false,
     "tableResultSettingsMap": {},
     "title": ""
    }
   },
   "outputs": [
    {
     "output_type": "stream",
     "name": "stdout",
     "output_type": "stream",
     "text": [
      "+---+------+----+------------+-----------+--------+-------+----------+------------+---+-------+------------+\n| id|genero|edad|hipertension|enfCardiaca|EdoCivil|trabajo|residencia|nivelGlucosa|IMC|Fumador|paraCardiaco|\n+---+------+----+------------+-----------+--------+-------+----------+------------+---+-------+------------+\n|  0|     0|   0|           0|          0|       0|      0|         0|           0|  0|      0|           0|\n+---+------+----+------------+-----------+--------+-------+----------+------------+---+-------+------------+\n\n"
     ]
    }
   ],
   "source": [
    "df04.select([count(when(isnan(c) | col(c).isNull(),c)).alias(c) for c in df04.columns]).show()"
   ]
  },
  {
   "cell_type": "markdown",
   "metadata": {
    "application/vnd.databricks.v1+cell": {
     "cellMetadata": {},
     "inputWidgets": {},
     "nuid": "c363de80-844f-4f4b-bd2a-2f573695e83d",
     "showTitle": false,
     "tableResultSettingsMap": {},
     "title": ""
    }
   },
   "source": [
    "De esta forma nos damos cuenta que ya hemos reemplazados todos los valores nulos por sus promedios correspondientes"
   ]
  },
  {
   "cell_type": "markdown",
   "metadata": {
    "application/vnd.databricks.v1+cell": {
     "cellMetadata": {},
     "inputWidgets": {},
     "nuid": "447c33ad-b713-48ae-b678-caf3257377df",
     "showTitle": false,
     "tableResultSettingsMap": {},
     "title": ""
    }
   },
   "source": [
    "**Histograma por edades**"
   ]
  },
  {
   "cell_type": "code",
   "execution_count": 0,
   "metadata": {
    "application/vnd.databricks.v1+cell": {
     "cellMetadata": {
      "byteLimit": 2048000,
      "rowLimit": 10000
     },
     "inputWidgets": {},
     "nuid": "da1fe789-dc13-45b0-8a2c-bd2428f01f7e",
     "showTitle": false,
     "tableResultSettingsMap": {},
     "title": ""
    }
   },
   "outputs": [
    {
     "output_type": "display_data",
     "data": {
      "image/png": "[encoded data removed]",
      "text/plain": [
       "<Figure size 640x480 with 1 Axes>"
      ]
     },
     "metadata": {},
     "output_type": "display_data"
    }
   ],
   "source": [
    "#Grafica Columna\n",
    "#Edad\n",
    "\n",
    "clases, cantidad = df04.groupby('edad').count().select('count').rdd.flatMap(lambda x: x).histogram(20)\n",
    "plt.hist(clases[:-1], bins = clases, weights=cantidad)\n",
    "plt.ylabel('cantidad')\n",
    "plt.xlabel('edad')\n",
    "plt.title('Histograma por edades')\n",
    "plt.legend(['edad'], loc= 'upper right')\n",
    "plt.show()\n"
   ]
  },
  {
   "cell_type": "markdown",
   "metadata": {
    "application/vnd.databricks.v1+cell": {
     "cellMetadata": {},
     "inputWidgets": {},
     "nuid": "fa2d6890-f369-4d81-aa34-740870dbdee0",
     "showTitle": false,
     "tableResultSettingsMap": {},
     "title": ""
    }
   },
   "source": [
    "Función para para encontrar el promedio con argumentos específicos"
   ]
  },
  {
   "cell_type": "code",
   "execution_count": 0,
   "metadata": {
    "application/vnd.databricks.v1+cell": {
     "cellMetadata": {
      "byteLimit": 2048000,
      "rowLimit": 10000
     },
     "inputWidgets": {},
     "nuid": "897cf318-7bb0-460e-91d6-74c62637f653",
     "showTitle": false,
     "tableResultSettingsMap": {},
     "title": ""
    }
   },
   "outputs": [
    {
     "output_type": "stream",
     "name": "stdout",
     "output_type": "stream",
     "text": [
      "[Row(avg(IMC)=18.687962962962963)]\n"
     ]
    }
   ],
   "source": [
    "\n",
    "def obtener_promedio_imc(df, genero, rango_edad):\n",
    "    edad_min, edad_max = rango_edad\n",
    "    promedio_imc = df.where((col('genero') == lit(genero)) & \n",
    "                            (col('edad') >= edad_min) & \n",
    "                            (col('edad') < edad_max)) \\\n",
    "                     .select(mean(col('IMC'))).collect()\n",
    "    return promedio_imc\n",
    "\n",
    "promedio_imc_10 = obtener_promedio_imc(df02, 'Female', (0, 10))\n",
    "\n",
    "print(promedio_imc_10)\n"
   ]
  },
  {
   "cell_type": "markdown",
   "metadata": {
    "application/vnd.databricks.v1+cell": {
     "cellMetadata": {},
     "inputWidgets": {},
     "nuid": "81086285-45b6-44f6-8eb5-90e9fcd23fe6",
     "showTitle": false,
     "tableResultSettingsMap": {},
     "title": ""
    }
   },
   "source": [
    "> Función para reemplazar el promedio anteriormente hallado en cada casilla nula con el género y rango dado"
   ]
  },
  {
   "cell_type": "code",
   "execution_count": 0,
   "metadata": {
    "application/vnd.databricks.v1+cell": {
     "cellMetadata": {
      "byteLimit": 2048000,
      "rowLimit": 10000
     },
     "inputWidgets": {},
     "nuid": "c6aaf7b2-5f7a-40e0-9d0b-6c4c5ef62a57",
     "showTitle": false,
     "tableResultSettingsMap": {},
     "title": ""
    }
   },
   "outputs": [],
   "source": [
    "def actualizar_imc(df, genero, rangos_edad):\n",
    "    for rango_edad in rangos_edad:\n",
    "        promedio_imc = obtener_promedio_imc(df, genero, rango_edad)\n",
    "        df = df.withColumn(\n",
    "            \"IMC\", \n",
    "            when(\n",
    "                (df['genero'] == genero) & \n",
    "                (df['IMC'].isNull()) & \n",
    "                (df['edad'] >= rango_edad[0]) & \n",
    "                (df['edad'] < rango_edad[1]), \n",
    "                promedio_imc[0][0]\n",
    "            ).otherwise(df['IMC'])\n",
    "        )\n",
    "    return df\n",
    "\n",
    "rangos_edad = [(0, 10), (10, 20), (20, 30), (30, 40), (40, 50), (50, 60), (60, 70), (70, 80), (80, 90)]\n",
    "\n",
    "df03 = actualizar_imc(df02, 'Female', rangos_edad)\n"
   ]
  },
  {
   "cell_type": "code",
   "execution_count": 0,
   "metadata": {
    "application/vnd.databricks.v1+cell": {
     "cellMetadata": {
      "byteLimit": 2048000,
      "rowLimit": 10000
     },
     "inputWidgets": {},
     "nuid": "c7b577d6-e614-439f-9a32-9916306c64ae",
     "showTitle": false,
     "tableResultSettingsMap": {},
     "title": ""
    }
   },
   "outputs": [
    {
     "output_type": "stream",
     "name": "stdout",
     "output_type": "stream",
     "text": [
      "+---+------+----+------------+-----------+--------+-------+----------+------------+---+-------+------------+\n| id|genero|edad|hipertension|enfCardiaca|EdoCivil|trabajo|residencia|nivelGlucosa|IMC|Fumador|paraCardiaco|\n+---+------+----+------------+-----------+--------+-------+----------+------------+---+-------+------------+\n|  0|     0|   0|           0|          0|       0|      0|         0|           0|104|      0|           0|\n+---+------+----+------------+-----------+--------+-------+----------+------------+---+-------+------------+\n\n"
     ]
    }
   ],
   "source": [
    "df03.select([count(when(isnan(c) | col(c).isNull(),c)).alias(c) for c in df03.columns]).show()"
   ]
  },
  {
   "cell_type": "markdown",
   "metadata": {
    "application/vnd.databricks.v1+cell": {
     "cellMetadata": {},
     "inputWidgets": {},
     "nuid": "296e81f2-eb55-41da-9de0-136253c3448c",
     "showTitle": false,
     "tableResultSettingsMap": {},
     "title": ""
    }
   },
   "source": [
    "**Gráfica por Género**"
   ]
  },
  {
   "cell_type": "code",
   "execution_count": 0,
   "metadata": {
    "application/vnd.databricks.v1+cell": {
     "cellMetadata": {
      "byteLimit": 2048000,
      "rowLimit": 10000
     },
     "inputWidgets": {},
     "nuid": "0ab9f890-cf08-4c95-bd36-de6e27ea8945",
     "showTitle": false,
     "tableResultSettingsMap": {},
     "title": ""
    }
   },
   "outputs": [
    {
     "output_type": "display_data",
     "data": {
      "image/png": "[encoded data removed]",
      "text/plain": [
       "<Figure size 640x480 with 1 Axes>"
      ]
     },
     "metadata": {},
     "output_type": "display_data"
    }
   ],
   "source": [
    "## Genero ##\n",
    "\n",
    "genero = df04.groupby('genero').count().select('count').rdd.flatMap(lambda x: x).collect()\n",
    "\n",
    "categoria= ['Mujeres','Hombres']\n",
    "grafica = plt.bar(categoria,genero)\n",
    "grafica[0].set_color('r')\n",
    "plt.ylabel('cantidad')\n",
    "plt.xlabel('Género')\n",
    "plt.title('Gráfica de barras por género')\n",
    "plt.show()\n",
    "\n"
   ]
  },
  {
   "cell_type": "markdown",
   "metadata": {
    "application/vnd.databricks.v1+cell": {
     "cellMetadata": {},
     "inputWidgets": {},
     "nuid": "1f27c6b1-cec2-4d43-83b7-d7a7950fcfe4",
     "showTitle": false,
     "tableResultSettingsMap": {},
     "title": ""
    }
   },
   "source": [
    "**Gráfica por Enfermedad Caridaca**"
   ]
  },
  {
   "cell_type": "code",
   "execution_count": 0,
   "metadata": {
    "application/vnd.databricks.v1+cell": {
     "cellMetadata": {
      "byteLimit": 2048000,
      "rowLimit": 10000
     },
     "inputWidgets": {},
     "nuid": "62fc9060-188f-4ad5-b7e8-42e438dbd987",
     "showTitle": false,
     "tableResultSettingsMap": {},
     "title": ""
    }
   },
   "outputs": [
    {
     "output_type": "display_data",
     "data": {
      "image/png": "[encoded data removed]",
      "text/plain": [
       "<Figure size 640x480 with 1 Axes>"
      ]
     },
     "metadata": {},
     "output_type": "display_data"
    }
   ],
   "source": [
    "## Gráfica por Enfermedad Caridaca ##\n",
    "\n",
    "enfCardiaca = df04.groupby('enfCardiaca').count().select('count').rdd.flatMap(lambda x: x).collect()\n",
    "\n",
    "categoria= ['No','Si']\n",
    "grafica = plt.bar(categoria,enfCardiaca)\n",
    "grafica[0].set_color('r')\n",
    "plt.ylabel('cantidad')\n",
    "plt.xlabel('Enfermedad Cardiaca')\n",
    "plt.title('Gráfica de barras por Enfermedad Cardiaca')\n",
    "plt.show()"
   ]
  },
  {
   "cell_type": "markdown",
   "metadata": {
    "application/vnd.databricks.v1+cell": {
     "cellMetadata": {
      "byteLimit": 2048000,
      "rowLimit": 10000
     },
     "inputWidgets": {},
     "nuid": "35ac5b01-5fe6-4403-bcf4-7013d60f036b",
     "showTitle": false,
     "tableResultSettingsMap": {},
     "title": ""
    }
   },
   "source": []
  }
 ],
 "metadata": {
  "application/vnd.databricks.v1+notebook": {
   "computePreferences": null,
   "dashboards": [],
   "environmentMetadata": {
    "base_environment": "",
    "client": "1"
   },
   "language": "python",
   "notebookMetadata": {
    "pythonIndentUnit": 4
   },
   "notebookName": "Ortiz_03_02",
   "widgets": {}
  }
 },
 "nbformat": 4,
 "nbformat_minor": 0
}
